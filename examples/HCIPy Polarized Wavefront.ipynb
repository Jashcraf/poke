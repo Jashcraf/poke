{
 "cells": [
  {
   "cell_type": "code",
   "execution_count": 5,
   "id": "837e5962-d52a-4cd6-937c-83ea0b2c87fc",
   "metadata": {},
   "outputs": [],
   "source": [
    "import numpy as np\n",
    "import poke.poke_core as pol\n",
    "import poke.raytrace as ray\n",
    "import poke.plotting as plt"
   ]
  },
  {
   "cell_type": "code",
   "execution_count": 16,
   "id": "eeb4d1a5-7eec-417c-8f5c-170a5dfd87e2",
   "metadata": {},
   "outputs": [],
   "source": [
    "!conda activate zosapi"
   ]
  },
  {
   "cell_type": "markdown",
   "id": "e7a04041-ad61-479a-972e-08131959b5c5",
   "metadata": {
    "tags": []
   },
   "source": [
    "# Generating a Jones Pupil and propagating it with HCIPy \n",
    "\n",
    "In this example we will start with the computation of a Jones pupil using poke of the Hubble Space Telescope. Then we will use HCIPy to propagate to the image plane"
   ]
  },
  {
   "cell_type": "code",
   "execution_count": 17,
   "id": "8e0e58ec-a9f1-40a8-adab-0a72e316a123",
   "metadata": {},
   "outputs": [
    {
     "name": "stdout",
     "output_type": "stream",
     "text": [
      "norm fov =  [0. 0.]\n",
      "base ray shape  (4, 12644)\n"
     ]
    }
   ],
   "source": [
    "# Initialize a Raybundle\n",
    "nrays = 128\n",
    "n1 = 1\n",
    "n2 = 1.0194 - 1j*6.6388 # Al in v band\n",
    "radius = 1.2\n",
    "ffov = 0.08\n",
    "wlen = 551e-9\n",
    "pth = \"C:/Users/douglase/Desktop/poke/test_files/Hubble_Test.zmx\"\n",
    "\n",
    "# Surface parameters are defined with Python dictionaries.\n",
    "# 'surf' is the surface number in the raytrace lens data editor\n",
    "# 'coating' is the thin film information. For a single layer, it's just the refractive index\n",
    "s1 = {\n",
    "    'surf':2,\n",
    "    'coating':n2\n",
    "}\n",
    "\n",
    "s2 = {\n",
    "    'surf':4,\n",
    "    'coating':n2\n",
    "}\n",
    "\n",
    "raybundle = pol.Rayfront(nrays,wlen,radius,ffov,circle=True)\n",
    "raybundle.as_polarized([s1,s2]) # pass the raybundle the surface list"
   ]
  },
  {
   "cell_type": "code",
   "execution_count": 18,
   "id": "7c3c260c-c664-4b29-bf9d-1045f36a70fc",
   "metadata": {},
   "outputs": [
    {
     "data": {
      "text/plain": [
       "[{'surf': 2, 'coating': (1.0194-6.6388j)},\n",
       " {'surf': 4, 'coating': (1.0194-6.6388j)}]"
      ]
     },
     "execution_count": 18,
     "metadata": {},
     "output_type": "execute_result"
    }
   ],
   "source": [
    "# the surface data can be seen with the surfaces attribute\n",
    "raybundle.surfaces"
   ]
  },
  {
   "cell_type": "markdown",
   "id": "71fd16e1-5f19-4228-a6f6-2992ca9aba96",
   "metadata": {
    "tags": []
   },
   "source": [
    "## Still working on the code below, this is a problem with iPython and the zosapi"
   ]
  },
  {
   "cell_type": "code",
   "execution_count": 19,
   "id": "fc358825-55b4-42d0-96e2-11982e3f3fef",
   "metadata": {},
   "outputs": [
    {
     "ename": "FileNotFoundException",
     "evalue": "Could not load file or assembly 'ZOSAPI_Interfaces, Version=1.0.0.0, Culture=neutral, PublicKeyToken=null' or one of its dependencies. The system cannot find the file specified.\r\nFile name: 'ZOSAPI_Interfaces, Version=1.0.0.0, Culture=neutral, PublicKeyToken=null'\r\n   at System.Signature.GetSignature(Void* pCorSig, Int32 cCorSig, RuntimeFieldHandleInternal fieldHandle, IRuntimeMethodInfo methodHandle, RuntimeType declaringType)\r\n   at System.Reflection.RuntimeMethodInfo.ToString()\r\n   at Python.Runtime.MethodObject..ctor(MaybeType type, String name, MethodBase[] info, Boolean allow_threads)\r\n   at Python.Runtime.ClassManager.GetClassInfo(Type type, ClassBase impl)\r\n   at Python.Runtime.ClassManager.InitClassBase(Type type, ClassBase impl, ReflectedClrType pyType)\r\n   at Python.Runtime.ReflectedClrType.GetOrCreate(Type type)\r\n   at Python.Runtime.ModuleObject.GetAttribute(String name, Boolean guess)\r\n   at Python.Runtime.ModuleObject.LoadNames()\r\n   at Python.Runtime.ImportHook.Import(String modname)\r\n   at Python.Runtime.CLRModule._load_clr_module(PyObject spec)\r\n\r\nWRN: Assembly binding logging is turned OFF.\r\nTo enable assembly bind failure logging, set the registry value [HKLM\\Software\\Microsoft\\Fusion!EnableLog] (DWORD) to 1.\r\nNote: There is some performance penalty associated with assembly bind failure logging.\r\nTo turn this feature off, remove the registry value [HKLM\\Software\\Microsoft\\Fusion!EnableLog].\r\n",
     "output_type": "error",
     "traceback": [
      "\u001b[1;31m---------------------------------------------------------------------------\u001b[0m",
      "\u001b[1;31mFileNotFoundException\u001b[0m                     Traceback (most recent call last)",
      "Cell \u001b[1;32mIn[19], line 2\u001b[0m\n\u001b[0;32m      1\u001b[0m \u001b[38;5;66;03m# Now propagate through the zemax optical system\u001b[39;00m\n\u001b[1;32m----> 2\u001b[0m \u001b[43mraybundle\u001b[49m\u001b[38;5;241;43m.\u001b[39;49m\u001b[43mTraceRaysetZOS\u001b[49m\u001b[43m(\u001b[49m\u001b[43mpth\u001b[49m\u001b[43m,\u001b[49m\u001b[43msurfaces\u001b[49m\u001b[38;5;241;43m=\u001b[39;49m\u001b[43m[\u001b[49m\u001b[43ms1\u001b[49m\u001b[43m,\u001b[49m\u001b[43ms2\u001b[49m\u001b[43m]\u001b[49m\u001b[43m)\u001b[49m\n",
      "File \u001b[1;32m~\\Desktop\\poke\\poke\\poke_core.py:191\u001b[0m, in \u001b[0;36mRayfront.TraceRaysetZOS\u001b[1;34m(self, pth, wave, surfaces)\u001b[0m\n\u001b[0;32m    184\u001b[0m     \u001b[38;5;28mself\u001b[39m\u001b[38;5;241m.\u001b[39msurfaces \u001b[38;5;241m=\u001b[39m surfaces\n\u001b[0;32m    186\u001b[0m \u001b[38;5;124;03m\"\"\"Traces rays through zemax opticstudio\u001b[39;00m\n\u001b[0;32m    187\u001b[0m \n\u001b[0;32m    188\u001b[0m \u001b[38;5;124;03mxData (etc.) has shape [len(raysets),len(surflist),maxrays] from TraceThroughZOS\u001b[39;00m\n\u001b[0;32m    189\u001b[0m \u001b[38;5;124;03m\"\"\"\u001b[39;00m\n\u001b[1;32m--> 191\u001b[0m positions,directions,normals,\u001b[38;5;28mself\u001b[39m\u001b[38;5;241m.\u001b[39mopd \u001b[38;5;241m=\u001b[39m \u001b[43mrt\u001b[49m\u001b[38;5;241;43m.\u001b[39;49m\u001b[43mTraceThroughZOS\u001b[49m\u001b[43m(\u001b[49m\u001b[38;5;28;43mself\u001b[39;49m\u001b[38;5;241;43m.\u001b[39;49m\u001b[43mraysets\u001b[49m\u001b[43m,\u001b[49m\u001b[43mpth\u001b[49m\u001b[43m,\u001b[49m\u001b[38;5;28;43mself\u001b[39;49m\u001b[38;5;241;43m.\u001b[39;49m\u001b[43msurfaces\u001b[49m\u001b[43m,\u001b[49m\u001b[38;5;28;43mself\u001b[39;49m\u001b[38;5;241;43m.\u001b[39;49m\u001b[43mnrays\u001b[49m\u001b[43m,\u001b[49m\u001b[43mwave\u001b[49m\u001b[43m,\u001b[49m\u001b[38;5;28;43mself\u001b[39;49m\u001b[38;5;241;43m.\u001b[39;49m\u001b[43mglobal_coords\u001b[49m\u001b[43m)\u001b[49m\n\u001b[0;32m    192\u001b[0m \u001b[38;5;66;03m# Remember that these dimensions are\u001b[39;00m\n\u001b[0;32m    193\u001b[0m \u001b[38;5;66;03m# 0 : rayset\u001b[39;00m\n\u001b[0;32m    194\u001b[0m \u001b[38;5;66;03m# 1 : surface #\u001b[39;00m\n\u001b[0;32m    195\u001b[0m \u001b[38;5;66;03m# 2 : ray coordinate value\u001b[39;00m\n\u001b[0;32m    197\u001b[0m \u001b[38;5;28mself\u001b[39m\u001b[38;5;241m.\u001b[39mxData \u001b[38;5;241m=\u001b[39m positions[\u001b[38;5;241m0\u001b[39m]\n",
      "File \u001b[1;32m~\\Desktop\\poke\\poke\\raytrace.py:63\u001b[0m, in \u001b[0;36mTraceThroughZOS\u001b[1;34m(raysets, pth, surflist, nrays, wave, global_coords)\u001b[0m\n\u001b[0;32m     60\u001b[0m dll \u001b[38;5;241m=\u001b[39m os\u001b[38;5;241m.\u001b[39mpath\u001b[38;5;241m.\u001b[39mjoin(os\u001b[38;5;241m.\u001b[39mpath\u001b[38;5;241m.\u001b[39mdirname(os\u001b[38;5;241m.\u001b[39mpath\u001b[38;5;241m.\u001b[39mrealpath(\u001b[38;5;18m__file__\u001b[39m)),\u001b[38;5;124mr\u001b[39m\u001b[38;5;124m'\u001b[39m\u001b[38;5;124mRaytrace.dll\u001b[39m\u001b[38;5;124m'\u001b[39m)\n\u001b[0;32m     61\u001b[0m clr\u001b[38;5;241m.\u001b[39mAddReference(dll)\n\u001b[1;32m---> 63\u001b[0m \u001b[38;5;28;01mimport\u001b[39;00m \u001b[38;5;21;01mBatchRayTrace\u001b[39;00m\n\u001b[0;32m     65\u001b[0m zos \u001b[38;5;241m=\u001b[39m zosapi\u001b[38;5;241m.\u001b[39mApp()\n\u001b[0;32m     66\u001b[0m TheSystem \u001b[38;5;241m=\u001b[39m zos\u001b[38;5;241m.\u001b[39mTheSystem\n",
      "File \u001b[1;32m<frozen importlib._bootstrap>:991\u001b[0m, in \u001b[0;36m_find_and_load\u001b[1;34m(name, import_)\u001b[0m\n",
      "File \u001b[1;32m<frozen importlib._bootstrap>:975\u001b[0m, in \u001b[0;36m_find_and_load_unlocked\u001b[1;34m(name, import_)\u001b[0m\n",
      "File \u001b[1;32m<frozen importlib._bootstrap>:657\u001b[0m, in \u001b[0;36m_load_unlocked\u001b[1;34m(spec)\u001b[0m\n",
      "File \u001b[1;32m<frozen importlib._bootstrap>:556\u001b[0m, in \u001b[0;36mmodule_from_spec\u001b[1;34m(spec)\u001b[0m\n",
      "File \u001b[1;32m<string>:15\u001b[0m, in \u001b[0;36mcreate_module\u001b[1;34m(klass, spec)\u001b[0m\n",
      "\u001b[1;31mFileNotFoundException\u001b[0m: Could not load file or assembly 'ZOSAPI_Interfaces, Version=1.0.0.0, Culture=neutral, PublicKeyToken=null' or one of its dependencies. The system cannot find the file specified.\r\nFile name: 'ZOSAPI_Interfaces, Version=1.0.0.0, Culture=neutral, PublicKeyToken=null'\r\n   at System.Signature.GetSignature(Void* pCorSig, Int32 cCorSig, RuntimeFieldHandleInternal fieldHandle, IRuntimeMethodInfo methodHandle, RuntimeType declaringType)\r\n   at System.Reflection.RuntimeMethodInfo.ToString()\r\n   at Python.Runtime.MethodObject..ctor(MaybeType type, String name, MethodBase[] info, Boolean allow_threads)\r\n   at Python.Runtime.ClassManager.GetClassInfo(Type type, ClassBase impl)\r\n   at Python.Runtime.ClassManager.InitClassBase(Type type, ClassBase impl, ReflectedClrType pyType)\r\n   at Python.Runtime.ReflectedClrType.GetOrCreate(Type type)\r\n   at Python.Runtime.ModuleObject.GetAttribute(String name, Boolean guess)\r\n   at Python.Runtime.ModuleObject.LoadNames()\r\n   at Python.Runtime.ImportHook.Import(String modname)\r\n   at Python.Runtime.CLRModule._load_clr_module(PyObject spec)\r\n\r\nWRN: Assembly binding logging is turned OFF.\r\nTo enable assembly bind failure logging, set the registry value [HKLM\\Software\\Microsoft\\Fusion!EnableLog] (DWORD) to 1.\r\nNote: There is some performance penalty associated with assembly bind failure logging.\r\nTo turn this feature off, remove the registry value [HKLM\\Software\\Microsoft\\Fusion!EnableLog].\r\n"
     ]
    }
   ],
   "source": [
    "# Now propagate through the zemax optical system\n",
    "raybundle.TraceRaysetZOS(pth,surfaces=[s1,s2])"
   ]
  },
  {
   "cell_type": "markdown",
   "id": "5eda333a-609e-4acf-9b33-99b25926bbd4",
   "metadata": {},
   "source": [
    "## For now, we can run the `gen_rayset` module in the examples directory"
   ]
  },
  {
   "cell_type": "code",
   "execution_count": 12,
   "id": "dac0904b-2d06-4a17-9c01-730b3a496d42",
   "metadata": {},
   "outputs": [
    {
     "name": "stdout",
     "output_type": "stream",
     "text": [
      "norm fov =  [0. 0.]\n",
      "base ray shape  (4, 12644)\n"
     ]
    },
    {
     "ename": "FileNotFoundException",
     "evalue": "Could not load file or assembly 'ZOSAPI_Interfaces, Version=1.0.0.0, Culture=neutral, PublicKeyToken=null' or one of its dependencies. The system cannot find the file specified.\r\nFile name: 'ZOSAPI_Interfaces, Version=1.0.0.0, Culture=neutral, PublicKeyToken=null'\r\n   at System.Signature.GetSignature(Void* pCorSig, Int32 cCorSig, RuntimeFieldHandleInternal fieldHandle, IRuntimeMethodInfo methodHandle, RuntimeType declaringType)\r\n   at System.Reflection.RuntimeConstructorInfo.GetParametersNoCopy()\r\n   at System.Reflection.MethodBase.GetParameterTypes()\r\n   at System.Reflection.MethodBase.FormatNameAndSig(Boolean serialization)\r\n   at System.Reflection.RuntimeConstructorInfo.ToString()\r\n   at Python.Runtime.MethodObject..ctor(MaybeType type, String name, MethodBase[] info, Boolean allow_threads)\r\n   at Python.Runtime.ClassManager.GetClassInfo(Type type, ClassBase impl)\r\n   at Python.Runtime.ClassManager.InitClassBase(Type type, ClassBase impl, ReflectedClrType pyType)\r\n   at Python.Runtime.ReflectedClrType.GetOrCreate(Type type)\r\n   at Python.Runtime.ModuleObject.GetAttribute(String name, Boolean guess)\r\n   at Python.Runtime.ModuleObject.LoadNames()\r\n   at Python.Runtime.ImportHook.Import(String modname)\r\n   at Python.Runtime.CLRModule._load_clr_module(PyObject spec)\r\n\r\nWRN: Assembly binding logging is turned OFF.\r\nTo enable assembly bind failure logging, set the registry value [HKLM\\Software\\Microsoft\\Fusion!EnableLog] (DWORD) to 1.\r\nNote: There is some performance penalty associated with assembly bind failure logging.\r\nTo turn this feature off, remove the registry value [HKLM\\Software\\Microsoft\\Fusion!EnableLog].\r\n",
     "output_type": "error",
     "traceback": [
      "\u001b[1;31m---------------------------------------------------------------------------\u001b[0m",
      "\u001b[1;31mFileNotFoundException\u001b[0m                     Traceback (most recent call last)",
      "Cell \u001b[1;32mIn[12], line 2\u001b[0m\n\u001b[0;32m      1\u001b[0m \u001b[38;5;28;01mimport\u001b[39;00m \u001b[38;5;21;01mgen_rayset\u001b[39;00m\n\u001b[1;32m----> 2\u001b[0m raybundle \u001b[38;5;241m=\u001b[39m \u001b[43mgen_rayset\u001b[49m\u001b[38;5;241;43m.\u001b[39;49m\u001b[43mtrace_rayset\u001b[49m\u001b[43m(\u001b[49m\u001b[43m)\u001b[49m\n",
      "File \u001b[1;32m~\\Desktop\\poke\\examples\\gen_rayset.py:30\u001b[0m, in \u001b[0;36mtrace_rayset\u001b[1;34m()\u001b[0m\n\u001b[0;32m     28\u001b[0m raybundle \u001b[38;5;241m=\u001b[39m pol\u001b[38;5;241m.\u001b[39mRayfront(nrays,wlen,radius,ffov,circle\u001b[38;5;241m=\u001b[39m\u001b[38;5;28;01mTrue\u001b[39;00m)\n\u001b[0;32m     29\u001b[0m raybundle\u001b[38;5;241m.\u001b[39mas_polarized([s1,s2]) \u001b[38;5;66;03m# pass the raybundle the surface list\u001b[39;00m\n\u001b[1;32m---> 30\u001b[0m \u001b[43mraybundle\u001b[49m\u001b[38;5;241;43m.\u001b[39;49m\u001b[43mTraceRaysetZOS\u001b[49m\u001b[43m(\u001b[49m\u001b[43mpth\u001b[49m\u001b[43m,\u001b[49m\u001b[43msurfaces\u001b[49m\u001b[38;5;241;43m=\u001b[39;49m\u001b[43m[\u001b[49m\u001b[43ms1\u001b[49m\u001b[43m,\u001b[49m\u001b[43ms2\u001b[49m\u001b[43m]\u001b[49m\u001b[43m)\u001b[49m\n\u001b[0;32m     32\u001b[0m \u001b[38;5;28;01mreturn\u001b[39;00m raybundle\n",
      "File \u001b[1;32m~\\Desktop\\poke\\poke\\poke_core.py:191\u001b[0m, in \u001b[0;36mRayfront.TraceRaysetZOS\u001b[1;34m(self, pth, wave, surfaces)\u001b[0m\n\u001b[0;32m    184\u001b[0m     \u001b[38;5;28mself\u001b[39m\u001b[38;5;241m.\u001b[39msurfaces \u001b[38;5;241m=\u001b[39m surfaces\n\u001b[0;32m    186\u001b[0m \u001b[38;5;124;03m\"\"\"Traces rays through zemax opticstudio\u001b[39;00m\n\u001b[0;32m    187\u001b[0m \n\u001b[0;32m    188\u001b[0m \u001b[38;5;124;03mxData (etc.) has shape [len(raysets),len(surflist),maxrays] from TraceThroughZOS\u001b[39;00m\n\u001b[0;32m    189\u001b[0m \u001b[38;5;124;03m\"\"\"\u001b[39;00m\n\u001b[1;32m--> 191\u001b[0m positions,directions,normals,\u001b[38;5;28mself\u001b[39m\u001b[38;5;241m.\u001b[39mopd \u001b[38;5;241m=\u001b[39m \u001b[43mrt\u001b[49m\u001b[38;5;241;43m.\u001b[39;49m\u001b[43mTraceThroughZOS\u001b[49m\u001b[43m(\u001b[49m\u001b[38;5;28;43mself\u001b[39;49m\u001b[38;5;241;43m.\u001b[39;49m\u001b[43mraysets\u001b[49m\u001b[43m,\u001b[49m\u001b[43mpth\u001b[49m\u001b[43m,\u001b[49m\u001b[38;5;28;43mself\u001b[39;49m\u001b[38;5;241;43m.\u001b[39;49m\u001b[43msurfaces\u001b[49m\u001b[43m,\u001b[49m\u001b[38;5;28;43mself\u001b[39;49m\u001b[38;5;241;43m.\u001b[39;49m\u001b[43mnrays\u001b[49m\u001b[43m,\u001b[49m\u001b[43mwave\u001b[49m\u001b[43m,\u001b[49m\u001b[38;5;28;43mself\u001b[39;49m\u001b[38;5;241;43m.\u001b[39;49m\u001b[43mglobal_coords\u001b[49m\u001b[43m)\u001b[49m\n\u001b[0;32m    192\u001b[0m \u001b[38;5;66;03m# Remember that these dimensions are\u001b[39;00m\n\u001b[0;32m    193\u001b[0m \u001b[38;5;66;03m# 0 : rayset\u001b[39;00m\n\u001b[0;32m    194\u001b[0m \u001b[38;5;66;03m# 1 : surface #\u001b[39;00m\n\u001b[0;32m    195\u001b[0m \u001b[38;5;66;03m# 2 : ray coordinate value\u001b[39;00m\n\u001b[0;32m    197\u001b[0m \u001b[38;5;28mself\u001b[39m\u001b[38;5;241m.\u001b[39mxData \u001b[38;5;241m=\u001b[39m positions[\u001b[38;5;241m0\u001b[39m]\n",
      "File \u001b[1;32m~\\Desktop\\poke\\poke\\raytrace.py:63\u001b[0m, in \u001b[0;36mTraceThroughZOS\u001b[1;34m(raysets, pth, surflist, nrays, wave, global_coords)\u001b[0m\n\u001b[0;32m     60\u001b[0m dll \u001b[38;5;241m=\u001b[39m os\u001b[38;5;241m.\u001b[39mpath\u001b[38;5;241m.\u001b[39mjoin(os\u001b[38;5;241m.\u001b[39mpath\u001b[38;5;241m.\u001b[39mdirname(os\u001b[38;5;241m.\u001b[39mpath\u001b[38;5;241m.\u001b[39mrealpath(\u001b[38;5;18m__file__\u001b[39m)),\u001b[38;5;124mr\u001b[39m\u001b[38;5;124m'\u001b[39m\u001b[38;5;124mRaytrace.dll\u001b[39m\u001b[38;5;124m'\u001b[39m)\n\u001b[0;32m     61\u001b[0m clr\u001b[38;5;241m.\u001b[39mAddReference(dll)\n\u001b[1;32m---> 63\u001b[0m \u001b[38;5;28;01mimport\u001b[39;00m \u001b[38;5;21;01mBatchRayTrace\u001b[39;00m\n\u001b[0;32m     65\u001b[0m zos \u001b[38;5;241m=\u001b[39m zosapi\u001b[38;5;241m.\u001b[39mApp()\n\u001b[0;32m     66\u001b[0m TheSystem \u001b[38;5;241m=\u001b[39m zos\u001b[38;5;241m.\u001b[39mTheSystem\n",
      "File \u001b[1;32m<frozen importlib._bootstrap>:991\u001b[0m, in \u001b[0;36m_find_and_load\u001b[1;34m(name, import_)\u001b[0m\n",
      "File \u001b[1;32m<frozen importlib._bootstrap>:975\u001b[0m, in \u001b[0;36m_find_and_load_unlocked\u001b[1;34m(name, import_)\u001b[0m\n",
      "File \u001b[1;32m<frozen importlib._bootstrap>:657\u001b[0m, in \u001b[0;36m_load_unlocked\u001b[1;34m(spec)\u001b[0m\n",
      "File \u001b[1;32m<frozen importlib._bootstrap>:556\u001b[0m, in \u001b[0;36mmodule_from_spec\u001b[1;34m(spec)\u001b[0m\n",
      "File \u001b[1;32m<string>:15\u001b[0m, in \u001b[0;36mcreate_module\u001b[1;34m(klass, spec)\u001b[0m\n",
      "\u001b[1;31mFileNotFoundException\u001b[0m: Could not load file or assembly 'ZOSAPI_Interfaces, Version=1.0.0.0, Culture=neutral, PublicKeyToken=null' or one of its dependencies. The system cannot find the file specified.\r\nFile name: 'ZOSAPI_Interfaces, Version=1.0.0.0, Culture=neutral, PublicKeyToken=null'\r\n   at System.Signature.GetSignature(Void* pCorSig, Int32 cCorSig, RuntimeFieldHandleInternal fieldHandle, IRuntimeMethodInfo methodHandle, RuntimeType declaringType)\r\n   at System.Reflection.RuntimeConstructorInfo.GetParametersNoCopy()\r\n   at System.Reflection.MethodBase.GetParameterTypes()\r\n   at System.Reflection.MethodBase.FormatNameAndSig(Boolean serialization)\r\n   at System.Reflection.RuntimeConstructorInfo.ToString()\r\n   at Python.Runtime.MethodObject..ctor(MaybeType type, String name, MethodBase[] info, Boolean allow_threads)\r\n   at Python.Runtime.ClassManager.GetClassInfo(Type type, ClassBase impl)\r\n   at Python.Runtime.ClassManager.InitClassBase(Type type, ClassBase impl, ReflectedClrType pyType)\r\n   at Python.Runtime.ReflectedClrType.GetOrCreate(Type type)\r\n   at Python.Runtime.ModuleObject.GetAttribute(String name, Boolean guess)\r\n   at Python.Runtime.ModuleObject.LoadNames()\r\n   at Python.Runtime.ImportHook.Import(String modname)\r\n   at Python.Runtime.CLRModule._load_clr_module(PyObject spec)\r\n\r\nWRN: Assembly binding logging is turned OFF.\r\nTo enable assembly bind failure logging, set the registry value [HKLM\\Software\\Microsoft\\Fusion!EnableLog] (DWORD) to 1.\r\nNote: There is some performance penalty associated with assembly bind failure logging.\r\nTo turn this feature off, remove the registry value [HKLM\\Software\\Microsoft\\Fusion!EnableLog].\r\n"
     ]
    }
   ],
   "source": [
    "import gen_rayset\n",
    "raybundle = gen_rayset.trace_rayset()"
   ]
  },
  {
   "cell_type": "code",
   "execution_count": null,
   "id": "73459e40-414f-4043-b373-0639f26d27e3",
   "metadata": {},
   "outputs": [],
   "source": []
  }
 ],
 "metadata": {
  "kernelspec": {
   "display_name": "Python 3 (ipykernel)",
   "language": "python",
   "name": "python3"
  },
  "language_info": {
   "codemirror_mode": {
    "name": "ipython",
    "version": 3
   },
   "file_extension": ".py",
   "mimetype": "text/x-python",
   "name": "python",
   "nbconvert_exporter": "python",
   "pygments_lexer": "ipython3",
   "version": "3.8.8"
  }
 },
 "nbformat": 4,
 "nbformat_minor": 5
}
