{
 "cells": [
  {
   "cell_type": "code",
   "execution_count": 1,
   "id": "04545d3a",
   "metadata": {},
   "outputs": [
    {
     "name": "stdout",
     "output_type": "stream",
     "text": [
      "C:\\Users\\jaren\\anaconda3\\envs\\zosapi\\python.exe\n"
     ]
    }
   ],
   "source": [
    "import numpy as np\n",
    "import poke.poke_core as pol\n",
    "import poke.raytrace as ray\n",
    "import poke.plotting as plt\n",
    "import sys\n",
    "print(sys.executable)"
   ]
  },
  {
   "cell_type": "code",
   "execution_count": null,
   "id": "af80b361",
   "metadata": {},
   "outputs": [
    {
     "name": "stdout",
     "output_type": "stream",
     "text": [
      "surflist added to attributes\n"
     ]
    }
   ],
   "source": [
    "# Initialize a Raybundle\n",
    "nrays = 25\n",
    "n1 = 1\n",
    "n2 = 2.3669 + 1j*8.4177\n",
    "pth = \"C:/Users/jaren/Desktop/poke/Hubble_Test.zmx\"\n",
    "\n",
    "# Initialize a ray bundle\n",
    "raybundle = ray.RayBundle(nrays,n1,n2)\n",
    "\n",
    "# try to run a raytrace\n",
    "raybundle.TraceThroughZOS(pth,[2])\n",
    "raybundle.ConvertRayDataToPRTData()\n",
    "raybundle.ComputePRTMatrix()"
   ]
  },
  {
   "cell_type": "code",
   "execution_count": 1,
   "id": "6fc817f1",
   "metadata": {},
   "outputs": [
    {
     "ename": "SyntaxError",
     "evalue": "invalid syntax (2746368442.py, line 1)",
     "output_type": "error",
     "traceback": [
      "\u001b[1;36m  Input \u001b[1;32mIn [1]\u001b[1;36m\u001b[0m\n\u001b[1;33m    <a href='command:jupyter.viewOutput'>log</a>\u001b[0m\n\u001b[1;37m    ^\u001b[0m\n\u001b[1;31mSyntaxError\u001b[0m\u001b[1;31m:\u001b[0m invalid syntax\n"
     ]
    }
   ],
   "source": []
  },
  {
   "cell_type": "code",
   "execution_count": null,
   "id": "b1567ff7-4391-4113-abfd-f20a8c1dcd8d",
   "metadata": {},
   "outputs": [],
   "source": []
  }
 ],
 "metadata": {
  "kernelspec": {
   "display_name": "zosapi_env",
   "language": "python",
   "name": "zosapi_env"
  },
  "language_info": {
   "codemirror_mode": {
    "name": "ipython",
    "version": 3
   },
   "file_extension": ".py",
   "mimetype": "text/x-python",
   "name": "python",
   "nbconvert_exporter": "python",
   "pygments_lexer": "ipython3",
   "version": "3.8.13"
  },
  "vscode": {
   "interpreter": {
    "hash": "fd2f3e1c7d74b06b81bd6dd8b294a9e99172d6897de59f6c635f26f4f04a83aa"
   }
  }
 },
 "nbformat": 4,
 "nbformat_minor": 5
}
