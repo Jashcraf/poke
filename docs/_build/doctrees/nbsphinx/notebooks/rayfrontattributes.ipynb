{
 "cells": [
  {
   "cell_type": "code",
   "execution_count": null,
   "metadata": {},
   "outputs": [],
   "source": [
    "import numpy as np\n",
    "import matplotlib.pyplot as plt\n",
    "from poke.writing import read_serial_to_rayfront\n",
    "from poke.poke_core import Rayfront"
   ]
  },
  {
   "cell_type": "markdown",
   "metadata": {},
   "source": [
    "# Displaying Footprint Diagrams and Ray OPDs\n",
    "Footprint diagrams and OPD maps are (one of the many) important tools in any respectable ray tracer's toolkit. The footprint diagram is a simple map of the rays on a given surface, and the OPD map is the optical path experienced by each ray traced. Here we show how these data are accessible with Poke.\n",
    "\n",
    "For now, we use an already traced Rayfront (for the EELT!) but this demo will later be updated with the ray tracing included."
   ]
  },
  {
   "cell_type": "code",
   "execution_count": null,
   "metadata": {},
   "outputs": [],
   "source": [
    "# Load a rayfront\n",
    "# pth_to_rf = '/Users/jashcraft/Desktop/poke/tests/ELT_rayfront_aspolarized_64rays_0.6um.msgpack'\n",
    "# rf = read_serial_to_rayfront(pth_to_rf)\n",
    "pth_to_lens = 'C:/Users/Kusama/Desktop/poke/test_files/Hubble_Test.zmx'\n",
    "nrays = 32\n",
    "wavelength = 1e-6\n",
    "pupil_radius = 1.2\n",
    "max_fov = 0.08\n",
    "\n",
    "# define surfaces\n",
    "s1 = {'surf':2,'coating':1.2 + 1j*7.115,'mode':'reflect'}\n",
    "s2 = {'surf':4,'coating':1.2 + 1j*7.115,'mode':'reflect'}\n",
    "s3 = {'surf':8,'coating':1.2 + 1j*7.115,'mode':'reflect'}\n",
    "\n",
    "rf = Rayfront(nrays,wavelength,pupil_radius,max_fov)\n",
    "rf.as_polarized([s1,s2,s3])\n",
    "display(rf.surfaces)"
   ]
  },
  {
   "cell_type": "markdown",
   "metadata": {},
   "source": [
    "Now we need to trace the rays through the system. U"
   ]
  },
  {
   "cell_type": "code",
   "execution_count": 3,
   "metadata": {},
   "outputs": [
    {
     "ename": "FileNotFoundException",
     "evalue": "Could not load file or assembly 'ZOSAPI_Interfaces, Version=1.0.0.0, Culture=neutral, PublicKeyToken=null' or one of its dependencies. The system cannot find the file specified.\r\nFile name: 'ZOSAPI_Interfaces, Version=1.0.0.0, Culture=neutral, PublicKeyToken=null'\r\n   at System.Signature.GetSignature(Void* pCorSig, Int32 cCorSig, RuntimeFieldHandleInternal fieldHandle, IRuntimeMethodInfo methodHandle, RuntimeType declaringType)\r\n   at System.Reflection.RuntimeConstructorInfo.GetParametersNoCopy()\r\n   at System.Reflection.MethodBase.GetParameterTypes()\r\n   at System.Reflection.MethodBase.FormatNameAndSig(Boolean serialization)\r\n   at System.Reflection.RuntimeConstructorInfo.ToString()\r\n   at Python.Runtime.MethodObject..ctor(MaybeType type, String name, MethodBase[] info, Boolean allow_threads)\r\n   at Python.Runtime.ClassManager.GetClassInfo(Type type, ClassBase impl)\r\n   at Python.Runtime.ClassManager.InitClassBase(Type type, ClassBase impl, ReflectedClrType pyType)\r\n   at Python.Runtime.ReflectedClrType.GetOrCreate(Type type)\r\n   at Python.Runtime.ModuleObject.GetAttribute(String name, Boolean guess)\r\n   at Python.Runtime.ModuleObject.LoadNames()\r\n   at Python.Runtime.ImportHook.Import(String modname)\r\n   at Python.Runtime.CLRModule._load_clr_module(PyObject spec)\r\n\r\nWRN: Assembly binding logging is turned OFF.\r\nTo enable assembly bind failure logging, set the registry value [HKLM\\Software\\Microsoft\\Fusion!EnableLog] (DWORD) to 1.\r\nNote: There is some performance penalty associated with assembly bind failure logging.\r\nTo turn this feature off, remove the registry value [HKLM\\Software\\Microsoft\\Fusion!EnableLog].\r\n",
     "output_type": "error",
     "traceback": [
      "\u001b[1;31m---------------------------------------------------------------------------\u001b[0m",
      "\u001b[1;31mFileNotFoundException\u001b[0m                     Traceback (most recent call last)",
      "Cell \u001b[1;32mIn[3], line 1\u001b[0m\n\u001b[1;32m----> 1\u001b[0m \u001b[43mrf\u001b[49m\u001b[38;5;241;43m.\u001b[39;49m\u001b[43mtrace_rayset\u001b[49m\u001b[43m(\u001b[49m\u001b[43mpth_to_lens\u001b[49m\u001b[43m)\u001b[49m\n",
      "File \u001b[1;32m~\\Desktop\\poke\\poke\\poke_core.py:184\u001b[0m, in \u001b[0;36mRayfront.trace_rayset\u001b[1;34m(self, pth, wave, surfaces)\u001b[0m\n\u001b[0;32m    181\u001b[0m     \u001b[38;5;28mself\u001b[39m\u001b[38;5;241m.\u001b[39m_surfaces \u001b[38;5;241m=\u001b[39m surfaces\n\u001b[0;32m    183\u001b[0m \u001b[38;5;28;01mif\u001b[39;00m (pth[\u001b[38;5;241m-\u001b[39m\u001b[38;5;241m3\u001b[39m:] \u001b[38;5;241m==\u001b[39m \u001b[38;5;124m'\u001b[39m\u001b[38;5;124mzmx\u001b[39m\u001b[38;5;124m'\u001b[39m) \u001b[38;5;129;01mor\u001b[39;00m (pth[\u001b[38;5;241m-\u001b[39m\u001b[38;5;241m3\u001b[39m:] \u001b[38;5;241m==\u001b[39m \u001b[38;5;124m'\u001b[39m\u001b[38;5;124mzos\u001b[39m\u001b[38;5;124m'\u001b[39m):\n\u001b[1;32m--> 184\u001b[0m     positions,directions,normals,\u001b[38;5;28mself\u001b[39m\u001b[38;5;241m.\u001b[39mopd \u001b[38;5;241m=\u001b[39m \u001b[43mrt\u001b[49m\u001b[38;5;241;43m.\u001b[39;49m\u001b[43mTraceThroughZOS\u001b[49m\u001b[43m(\u001b[49m\u001b[38;5;28;43mself\u001b[39;49m\u001b[38;5;241;43m.\u001b[39;49m\u001b[43mraysets\u001b[49m\u001b[43m,\u001b[49m\u001b[43mpth\u001b[49m\u001b[43m,\u001b[49m\u001b[38;5;28;43mself\u001b[39;49m\u001b[38;5;241;43m.\u001b[39;49m\u001b[43m_surfaces\u001b[49m\u001b[43m,\u001b[49m\u001b[38;5;28;43mself\u001b[39;49m\u001b[38;5;241;43m.\u001b[39;49m\u001b[43mnrays\u001b[49m\u001b[43m,\u001b[49m\u001b[43mwave\u001b[49m\u001b[43m,\u001b[49m\u001b[38;5;28;43mself\u001b[39;49m\u001b[38;5;241;43m.\u001b[39;49m\u001b[43mglobal_coords\u001b[49m\u001b[43m)\u001b[49m\n\u001b[0;32m    185\u001b[0m \u001b[38;5;28;01melif\u001b[39;00m (pth[\u001b[38;5;241m-\u001b[39m\u001b[38;5;241m3\u001b[39m:] \u001b[38;5;241m==\u001b[39m \u001b[38;5;124m'\u001b[39m\u001b[38;5;124mseq\u001b[39m\u001b[38;5;124m'\u001b[39m) \u001b[38;5;129;01mor\u001b[39;00m (pth[\u001b[38;5;241m-\u001b[39m\u001b[38;5;241m3\u001b[39m:] \u001b[38;5;241m==\u001b[39m \u001b[38;5;124m'\u001b[39m\u001b[38;5;124mlen\u001b[39m\u001b[38;5;124m'\u001b[39m):\n\u001b[0;32m    186\u001b[0m     positions,directions,normals,\u001b[38;5;28mself\u001b[39m\u001b[38;5;241m.\u001b[39mopd \u001b[38;5;241m=\u001b[39m rt\u001b[38;5;241m.\u001b[39mTraceThroughCV(\u001b[38;5;28mself\u001b[39m\u001b[38;5;241m.\u001b[39mraysets,pth,\u001b[38;5;28mself\u001b[39m\u001b[38;5;241m.\u001b[39m_surfaces,\u001b[38;5;28mself\u001b[39m\u001b[38;5;241m.\u001b[39mnrays,wave,\u001b[38;5;28mself\u001b[39m\u001b[38;5;241m.\u001b[39mglobal_coords)\n",
      "File \u001b[1;32m~\\Desktop\\poke\\poke\\raytrace.py:70\u001b[0m, in \u001b[0;36mTraceThroughZOS\u001b[1;34m(raysets, pth, surflist, nrays, wave, global_coords)\u001b[0m\n\u001b[0;32m     67\u001b[0m dll \u001b[38;5;241m=\u001b[39m os\u001b[38;5;241m.\u001b[39mpath\u001b[38;5;241m.\u001b[39mjoin(os\u001b[38;5;241m.\u001b[39mpath\u001b[38;5;241m.\u001b[39mdirname(os\u001b[38;5;241m.\u001b[39mpath\u001b[38;5;241m.\u001b[39mrealpath(\u001b[38;5;18m__file__\u001b[39m)),\u001b[38;5;124mr\u001b[39m\u001b[38;5;124m'\u001b[39m\u001b[38;5;124mRaytrace.dll\u001b[39m\u001b[38;5;124m'\u001b[39m)\n\u001b[0;32m     68\u001b[0m clr\u001b[38;5;241m.\u001b[39mAddReference(dll)\n\u001b[1;32m---> 70\u001b[0m \u001b[38;5;28;01mimport\u001b[39;00m \u001b[38;5;21;01mBatchRayTrace\u001b[39;00m\n\u001b[0;32m     72\u001b[0m zos \u001b[38;5;241m=\u001b[39m zosapi\u001b[38;5;241m.\u001b[39mApp()\n\u001b[0;32m     73\u001b[0m TheSystem \u001b[38;5;241m=\u001b[39m zos\u001b[38;5;241m.\u001b[39mTheSystem\n",
      "File \u001b[1;32m<frozen importlib._bootstrap>:991\u001b[0m, in \u001b[0;36m_find_and_load\u001b[1;34m(name, import_)\u001b[0m\n",
      "File \u001b[1;32m<frozen importlib._bootstrap>:975\u001b[0m, in \u001b[0;36m_find_and_load_unlocked\u001b[1;34m(name, import_)\u001b[0m\n",
      "File \u001b[1;32m<frozen importlib._bootstrap>:657\u001b[0m, in \u001b[0;36m_load_unlocked\u001b[1;34m(spec)\u001b[0m\n",
      "File \u001b[1;32m<frozen importlib._bootstrap>:556\u001b[0m, in \u001b[0;36mmodule_from_spec\u001b[1;34m(spec)\u001b[0m\n",
      "File \u001b[1;32m<string>:15\u001b[0m, in \u001b[0;36mcreate_module\u001b[1;34m(klass, spec)\u001b[0m\n",
      "\u001b[1;31mFileNotFoundException\u001b[0m: Could not load file or assembly 'ZOSAPI_Interfaces, Version=1.0.0.0, Culture=neutral, PublicKeyToken=null' or one of its dependencies. The system cannot find the file specified.\r\nFile name: 'ZOSAPI_Interfaces, Version=1.0.0.0, Culture=neutral, PublicKeyToken=null'\r\n   at System.Signature.GetSignature(Void* pCorSig, Int32 cCorSig, RuntimeFieldHandleInternal fieldHandle, IRuntimeMethodInfo methodHandle, RuntimeType declaringType)\r\n   at System.Reflection.RuntimeConstructorInfo.GetParametersNoCopy()\r\n   at System.Reflection.MethodBase.GetParameterTypes()\r\n   at System.Reflection.MethodBase.FormatNameAndSig(Boolean serialization)\r\n   at System.Reflection.RuntimeConstructorInfo.ToString()\r\n   at Python.Runtime.MethodObject..ctor(MaybeType type, String name, MethodBase[] info, Boolean allow_threads)\r\n   at Python.Runtime.ClassManager.GetClassInfo(Type type, ClassBase impl)\r\n   at Python.Runtime.ClassManager.InitClassBase(Type type, ClassBase impl, ReflectedClrType pyType)\r\n   at Python.Runtime.ReflectedClrType.GetOrCreate(Type type)\r\n   at Python.Runtime.ModuleObject.GetAttribute(String name, Boolean guess)\r\n   at Python.Runtime.ModuleObject.LoadNames()\r\n   at Python.Runtime.ImportHook.Import(String modname)\r\n   at Python.Runtime.CLRModule._load_clr_module(PyObject spec)\r\n\r\nWRN: Assembly binding logging is turned OFF.\r\nTo enable assembly bind failure logging, set the registry value [HKLM\\Software\\Microsoft\\Fusion!EnableLog] (DWORD) to 1.\r\nNote: There is some performance penalty associated with assembly bind failure logging.\r\nTo turn this feature off, remove the registry value [HKLM\\Software\\Microsoft\\Fusion!EnableLog].\r\n"
     ]
    }
   ],
   "source": [
    "rf.trace_rayset(pth_to_lens)"
   ]
  },
  {
   "cell_type": "markdown",
   "metadata": {},
   "source": [
    "Great! The Rayfront was successfully loaded. Now we use the data attributes to generate a footprint diagram at M5 (the 4th surface in the surface list above)"
   ]
  },
  {
   "cell_type": "code",
   "execution_count": null,
   "metadata": {},
   "outputs": [],
   "source": [
    "x_m4,y_m4 = rf.xData[0,4],rf.yData[0,4]"
   ]
  },
  {
   "cell_type": "markdown",
   "metadata": {},
   "source": [
    "Now we just do a scatterplot"
   ]
  },
  {
   "cell_type": "code",
   "execution_count": null,
   "metadata": {},
   "outputs": [],
   "source": [
    "plt.figure(figsize=[7,7])\n",
    "plt.scatter(x_m4,y_m4,marker='o',alpha=0.5)\n",
    "plt.title('Footprint Diagram on M4')\n",
    "plt.axis('equal')\n",
    "plt.show()"
   ]
  },
  {
   "cell_type": "markdown",
   "metadata": {},
   "source": [
    "Easy enough! Now let's plot the OPD v.s. the Entrance Pupil coordinates"
   ]
  },
  {
   "cell_type": "code",
   "execution_count": null,
   "metadata": {},
   "outputs": [],
   "source": [
    "# Grab the OPD\n",
    "opd = np.copy(rf.opd[0,-1])\n",
    "opd -= np.mean(opd)\n",
    "\n",
    "# Grab the EP Coordinates\n",
    "x_ep,y_ep = rf.xData[0,0],rf.yData[0,0]"
   ]
  },
  {
   "cell_type": "markdown",
   "metadata": {},
   "source": [
    "Now it's just another scatterplot. Here the dimensions are in nm"
   ]
  },
  {
   "cell_type": "code",
   "execution_count": null,
   "metadata": {},
   "outputs": [],
   "source": [
    "plt.figure(figsize=[7,7])\n",
    "plt.scatter(x_ep,y_ep,c=opd)\n",
    "plt.title('OPD')\n",
    "plt.axis('equal')\n",
    "plt.colorbar()\n",
    "plt.show()"
   ]
  },
  {
   "cell_type": "code",
   "execution_count": null,
   "metadata": {},
   "outputs": [],
   "source": []
  },
  {
   "cell_type": "code",
   "execution_count": null,
   "metadata": {},
   "outputs": [],
   "source": []
  }
 ],
 "metadata": {
  "kernelspec": {
   "display_name": "Python 3 (ipykernel)",
   "language": "python",
   "name": "python3"
  },
  "language_info": {
   "codemirror_mode": {
    "name": "ipython",
    "version": 3
   },
   "file_extension": ".py",
   "mimetype": "text/x-python",
   "name": "python",
   "nbconvert_exporter": "python",
   "pygments_lexer": "ipython3",
   "version": "3.8.8"
  }
 },
 "nbformat": 4,
 "nbformat_minor": 2
}
