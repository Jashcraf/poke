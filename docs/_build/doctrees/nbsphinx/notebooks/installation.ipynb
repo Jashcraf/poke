{
 "cells": [
  {
   "cell_type": "markdown",
   "id": "4aaea7f5",
   "metadata": {},
   "source": [
    "# Installation\n",
    "\n",
    "Presently poke must be installed from source. \n",
    "```\n",
    "git clone https://github.com/Jashcraf/poke/\n",
    "cd poke\n",
    "pip install -e .\n",
    "```"
   ]
  },
  {
   "cell_type": "markdown",
   "id": "5abe65f7",
   "metadata": {},
   "source": [
    "## Requirements\n",
    "To use the ZOSAPI you need to use Python 3.8. All other utilities use Python 3.8 or greater."
   ]
  },
  {
   "cell_type": "code",
   "execution_count": null,
   "id": "da0e59c8",
   "metadata": {},
   "outputs": [],
   "source": []
  }
 ],
 "metadata": {
  "kernelspec": {
   "display_name": "Python 3",
   "language": "python",
   "name": "python3"
  },
  "language_info": {
   "codemirror_mode": {
    "name": "ipython",
    "version": 3
   },
   "file_extension": ".py",
   "mimetype": "text/x-python",
   "name": "python",
   "nbconvert_exporter": "python",
   "pygments_lexer": "ipython3",
   "version": "3.8.8"
  }
 },
 "nbformat": 4,
 "nbformat_minor": 5
}
