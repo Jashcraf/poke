{
 "cells": [
  {
   "cell_type": "markdown",
   "id": "5dfd4ead",
   "metadata": {},
   "source": [
    "# Intro to Poke: Polarization Ray Tracing\n",
    "\n",
    "The first physics submodule of poke is for polarization ray tracing (PRT). All of the physics are done in the `poke.polarization` module, and everything else is just ray data. PRT is an expression of the Fresnel Equations (citation needed) for thin-film polarization in three dimensions. This allows for the propagation of polarization-dependent performance through a ray trace of an optical system\n",
    "\n",
    "The desireable data product is a Jones Pupil, which is the 3x3 PRT matrix rotated into a local coordinate system. Poke does this using the double pole coordinate system descibed in Chipman, Lam, and Young (2018) Chapter 11.4. This coordinate system is robust to polarization singularities that arise in using the s- and p- basis.\n",
    "\n",
    "## Initializing a Rayfront as Polarized\n",
    "So you want a Jones pupil of an optical system, this section will describe how we set up optical system parameters for a `Rayfront` to be built. First, we start with the system properties:\n",
    "- path to Zemax sequential ray trace file\n",
    "- thin film information"
   ]
  },
  {
   "cell_type": "code",
   "execution_count": 1,
   "id": "bdbed671",
   "metadata": {},
   "outputs": [],
   "source": [
    "n_film = 0.04 - 1j*7.1155 # Ag at 1um from Johnson and Christy 1972 refractiveindex.info\n",
    "pth_to_zmx = '/Users/UASAL-OPTICS/Desktop/poke/test_files/Hubble_Test.zmx'"
   ]
  },
  {
   "cell_type": "markdown",
   "id": "b3dd9103",
   "metadata": {},
   "source": [
    "That wasn't too bad. Note that we only specify a thin film iindex, which means that the software assumes the substrate is made of entirely silver. poke also supports thin film stacks, but we will cover that in another tutorial. Now we must specify the surface data. poke handles surface data with dictionaries as a low-level \"user interface\", and stores them in a list in the order that they appear in the raytrace."
   ]
  },
  {
   "cell_type": "code",
   "execution_count": 2,
   "id": "92514bc8",
   "metadata": {},
   "outputs": [],
   "source": [
    "# The Primary Mirror\n",
    "s1 = {\n",
    "    \"surf\" : 1,         # surface number in zemax\n",
    "    \"coating\" : n_film, # refractive index of surface\n",
    "    \"mode\" : \"reflect\"  # compute in reflection (\"reflect\") or transmission (\"transmit\")\n",
    "}\n",
    "\n",
    "# The Secondary Mirror\n",
    "s2 = {\n",
    "    \"surf\" : 2,\n",
    "    \"coating\" : n_film,\n",
    "    \"mode\" : \"reflect\"\n",
    "}\n",
    "\n",
    "surflist = [s1,s2]"
   ]
  },
  {
   "cell_type": "markdown",
   "id": "17c90bc8",
   "metadata": {},
   "source": [
    "Now that we have the surface information, we can initialize a `Rayfront` and pass this surface data to it."
   ]
  },
  {
   "cell_type": "code",
   "execution_count": 4,
   "id": "cee87427",
   "metadata": {},
   "outputs": [
    {
     "name": "stdout",
     "output_type": "stream",
     "text": [
      "norm fov =  [0. 0.]\n",
      "base ray shape  (4, 69)\n"
     ]
    }
   ],
   "source": [
    "from poke.poke_core import Rayfront\n",
    "\n",
    "# rayfront parameters\n",
    "number_of_rays = 11 # across the entrance pupil\n",
    "wavelength = 1e-6\n",
    "pupil_radius = 1.2 # semi-aperture of Hubble\n",
    "max_field_of_view = 0.08 # degrees\n",
    "\n",
    "rays = Rayfront(number_of_rays,wavelength,pupil_radius,max_field_of_view)"
   ]
  },
  {
   "cell_type": "markdown",
   "id": "32b0ec16",
   "metadata": {},
   "source": [
    "Now we have a standard Rayfront, which is just a bundle of un-traced rays now. To enable the physical optics capabilities, we need to call the `Rayfront.as_polarized()` method and pass it the surface list."
   ]
  },
  {
   "cell_type": "code",
   "execution_count": 5,
   "id": "c804a636",
   "metadata": {},
   "outputs": [],
   "source": [
    "rays.as_polarized(surflist)"
   ]
  },
  {
   "attachments": {},
   "cell_type": "markdown",
   "id": "6c208a06",
   "metadata": {},
   "source": [
    "Then we can propagate it through the optical system with the `rays.trace_rayset()` method by supplying the path specified earlier"
   ]
  },
  {
   "cell_type": "code",
   "execution_count": 7,
   "id": "692315e2",
   "metadata": {},
   "outputs": [
    {
     "ename": "",
     "evalue": "",
     "output_type": "error",
     "traceback": [
      "\u001b[1;31mCanceled future for execute_request message before replies were done"
     ]
    },
    {
     "ename": "",
     "evalue": "",
     "output_type": "error",
     "traceback": [
      "\u001b[1;31mThe Kernel crashed while executing code in the the current cell or a previous cell. Please review the code in the cell(s) to identify a possible cause of the failure. Click <a href='https://aka.ms/vscodeJupyterKernelCrash'>here</a> for more info. View Jupyter <a href='command:jupyter.viewOutput'>log</a> for further details."
     ]
    }
   ],
   "source": [
    "rays.trace_rayset(pth_to_zmx)"
   ]
  },
  {
   "cell_type": "markdown",
   "id": "1f14d87a",
   "metadata": {},
   "source": [
    "Now the rays have position and angle"
   ]
  },
  {
   "cell_type": "code",
   "execution_count": null,
   "id": "9bf92939",
   "metadata": {},
   "outputs": [],
   "source": []
  }
 ],
 "metadata": {
  "kernelspec": {
   "display_name": "Python 3",
   "language": "python",
   "name": "python3"
  },
  "language_info": {
   "codemirror_mode": {
    "name": "ipython",
    "version": 3
   },
   "file_extension": ".py",
   "mimetype": "text/x-python",
   "name": "python",
   "nbconvert_exporter": "python",
   "pygments_lexer": "ipython3",
   "version": "3.8.13"
  }
 },
 "nbformat": 4,
 "nbformat_minor": 5
}
