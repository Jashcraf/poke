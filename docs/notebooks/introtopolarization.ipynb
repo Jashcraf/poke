{
 "cells": [
  {
   "cell_type": "markdown",
   "id": "5dfd4ead",
   "metadata": {},
   "source": [
    "# Intro to Poke: Polarization Ray Tracing\n",
    "\n",
    "The first physics submodule of poke is for polarization ray tracing (PRT). All of the physics are done in the `poke.polarization` module, and everything else is just ray data. PRT is an expression of the Fresnel Equations (citation needed) for thin-film polarization in three dimensions. This allows for the propagation of polarization-dependent performance through a ray trace of an optical system\n",
    "\n",
    "The desireable data product is a Jones Pupil, which is the 3x3 PRT matrix rotated into a local coordinate system. Poke does this using the double pole coordinate system descibed in Chipman, Lam, and Young (2018) Chapter 11.4. This coordinate system is robust to polarization singularities that arise in using the s- and p- basis.\n",
    "\n",
    "## Initializing a Rayfront as Polarized\n",
    "So you want a Jones pupil of an optical system, this section will describe how we set up optical system parameters for a `Rayfront` to be built. First, we start with the system properties:\n",
    "- path to Zemax sequential ray trace file\n",
    "- thin film information"
   ]
  },
  {
   "cell_type": "code",
   "execution_count": 1,
   "id": "bdbed671",
   "metadata": {},
   "outputs": [],
   "source": [
    "n_film = 0.04 - 1j*7.1155 # Ag at 1um from Johnson and Christy 1972 refractiveindex.info\n",
    "pth_to_zmx = 'C:/Users/douglase/Desktop/poke/test_files/Hubble_Test.zmx'"
   ]
  },
  {
   "cell_type": "markdown",
   "id": "b3dd9103",
   "metadata": {},
   "source": [
    "That wasn't too bad. Note that we only specify a thin film iindex, which means that the software assumes the substrate is made of entirely silver. poke also supports thin film stacks, but we will cover that in another tutorial. Now we must specify the surface data. poke handles surface data with dictionaries as a low-level \"user interface\", and stores them in a list in the order that they appear in the raytrace."
   ]
  },
  {
   "cell_type": "code",
   "execution_count": 2,
   "id": "92514bc8",
   "metadata": {},
   "outputs": [],
   "source": [
    "# The Primary Mirror\n",
    "s1 = {\n",
    "    \"surf\" : 1,         # surface number in zemax\n",
    "    \"coating\" : n_film, # refractive index of surface\n",
    "    \"mode\" : \"reflect\"  # compute in reflection (\"reflect\") or transmission (\"transmit\")\n",
    "}\n",
    "\n",
    "# The Secondary Mirror\n",
    "s2 = {\n",
    "    \"surf\" : 2,\n",
    "    \"coating\" : n_film,\n",
    "    \"mode\" : \"reflect\"\n",
    "}\n",
    "\n",
    "surflist = [s1,s2]"
   ]
  },
  {
   "cell_type": "markdown",
   "id": "17c90bc8",
   "metadata": {},
   "source": [
    "Now that we have the surface information, we can initialize a `Rayfront` and pass this surface data to it."
   ]
  },
  {
   "cell_type": "code",
   "execution_count": 3,
   "id": "cee87427",
   "metadata": {},
   "outputs": [
    {
     "name": "stdout",
     "output_type": "stream",
     "text": [
      "norm fov =  [0. 0.]\n",
      "base ray shape  (4, 69)\n"
     ]
    }
   ],
   "source": [
    "from poke.poke_core import Rayfront\n",
    "\n",
    "# rayfront parameters\n",
    "number_of_rays = 11 # across the entrance pupil\n",
    "wavelength = 1e-6\n",
    "pupil_radius = 1.2 # semi-aperture of Hubble\n",
    "max_field_of_view = 0.08 # degrees\n",
    "\n",
    "rays = Rayfront(number_of_rays,wavelength,pupil_radius,max_field_of_view)"
   ]
  },
  {
   "cell_type": "markdown",
   "id": "32b0ec16",
   "metadata": {},
   "source": [
    "Now we have a standard Rayfront, which is just a bundle of un-traced rays now. To enable the physical optics capabilities, we need to call the `Rayfront.as_polarized()` method and pass it the surface list."
   ]
  },
  {
   "cell_type": "code",
   "execution_count": 4,
   "id": "c804a636",
   "metadata": {},
   "outputs": [],
   "source": [
    "rays.as_polarized(surflist)"
   ]
  },
  {
   "cell_type": "markdown",
   "id": "6c208a06",
   "metadata": {},
   "source": [
    "Then we can propagate it through the optical system with the `rays.TraceRaysZOS()` method by supplying the path specified earlier"
   ]
  },
  {
   "cell_type": "code",
   "execution_count": 5,
   "id": "692315e2",
   "metadata": {},
   "outputs": [
    {
     "ename": "FileNotFoundException",
     "evalue": "Could not load file or assembly 'ZOSAPI_Interfaces, Version=1.0.0.0, Culture=neutral, PublicKeyToken=null' or one of its dependencies. The system cannot find the file specified.\r\nFile name: 'ZOSAPI_Interfaces, Version=1.0.0.0, Culture=neutral, PublicKeyToken=null'\r\n   at System.Signature.GetSignature(Void* pCorSig, Int32 cCorSig, RuntimeFieldHandleInternal fieldHandle, IRuntimeMethodInfo methodHandle, RuntimeType declaringType)\r\n   at System.Reflection.RuntimeConstructorInfo.GetParametersNoCopy()\r\n   at System.Reflection.MethodBase.GetParameterTypes()\r\n   at System.Reflection.MethodBase.FormatNameAndSig(Boolean serialization)\r\n   at System.Reflection.RuntimeConstructorInfo.ToString()\r\n   at Python.Runtime.MethodObject..ctor(MaybeType type, String name, MethodBase[] info, Boolean allow_threads)\r\n   at Python.Runtime.ClassManager.GetClassInfo(Type type, ClassBase impl)\r\n   at Python.Runtime.ClassManager.InitClassBase(Type type, ClassBase impl, ReflectedClrType pyType)\r\n   at Python.Runtime.ReflectedClrType.GetOrCreate(Type type)\r\n   at Python.Runtime.ModuleObject.GetAttribute(String name, Boolean guess)\r\n   at Python.Runtime.ModuleObject.LoadNames()\r\n   at Python.Runtime.ImportHook.Import(String modname)\r\n   at Python.Runtime.CLRModule._load_clr_module(PyObject spec)\r\n\r\nWRN: Assembly binding logging is turned OFF.\r\nTo enable assembly bind failure logging, set the registry value [HKLM\\Software\\Microsoft\\Fusion!EnableLog] (DWORD) to 1.\r\nNote: There is some performance penalty associated with assembly bind failure logging.\r\nTo turn this feature off, remove the registry value [HKLM\\Software\\Microsoft\\Fusion!EnableLog].\r\n",
     "output_type": "error",
     "traceback": [
      "\u001b[1;31m---------------------------------------------------------------------------\u001b[0m",
      "\u001b[1;31mFileNotFoundException\u001b[0m                     Traceback (most recent call last)",
      "Cell \u001b[1;32mIn[5], line 1\u001b[0m\n\u001b[1;32m----> 1\u001b[0m \u001b[43mrays\u001b[49m\u001b[38;5;241;43m.\u001b[39;49m\u001b[43mTraceRaysetZOS\u001b[49m\u001b[43m(\u001b[49m\u001b[43mpth_to_zmx\u001b[49m\u001b[43m)\u001b[49m\n",
      "File \u001b[1;32m~\\Desktop\\poke\\poke\\poke_core.py:191\u001b[0m, in \u001b[0;36mRayfront.TraceRaysetZOS\u001b[1;34m(self, pth, wave, surfaces)\u001b[0m\n\u001b[0;32m    184\u001b[0m     \u001b[38;5;28mself\u001b[39m\u001b[38;5;241m.\u001b[39msurfaces \u001b[38;5;241m=\u001b[39m surfaces\n\u001b[0;32m    186\u001b[0m \u001b[38;5;124;03m\"\"\"Traces rays through zemax opticstudio\u001b[39;00m\n\u001b[0;32m    187\u001b[0m \n\u001b[0;32m    188\u001b[0m \u001b[38;5;124;03mxData (etc.) has shape [len(raysets),len(surflist),maxrays] from TraceThroughZOS\u001b[39;00m\n\u001b[0;32m    189\u001b[0m \u001b[38;5;124;03m\"\"\"\u001b[39;00m\n\u001b[1;32m--> 191\u001b[0m positions,directions,normals,\u001b[38;5;28mself\u001b[39m\u001b[38;5;241m.\u001b[39mopd \u001b[38;5;241m=\u001b[39m \u001b[43mrt\u001b[49m\u001b[38;5;241;43m.\u001b[39;49m\u001b[43mTraceThroughZOS\u001b[49m\u001b[43m(\u001b[49m\u001b[38;5;28;43mself\u001b[39;49m\u001b[38;5;241;43m.\u001b[39;49m\u001b[43mraysets\u001b[49m\u001b[43m,\u001b[49m\u001b[43mpth\u001b[49m\u001b[43m,\u001b[49m\u001b[38;5;28;43mself\u001b[39;49m\u001b[38;5;241;43m.\u001b[39;49m\u001b[43msurfaces\u001b[49m\u001b[43m,\u001b[49m\u001b[38;5;28;43mself\u001b[39;49m\u001b[38;5;241;43m.\u001b[39;49m\u001b[43mnrays\u001b[49m\u001b[43m,\u001b[49m\u001b[43mwave\u001b[49m\u001b[43m,\u001b[49m\u001b[38;5;28;43mself\u001b[39;49m\u001b[38;5;241;43m.\u001b[39;49m\u001b[43mglobal_coords\u001b[49m\u001b[43m)\u001b[49m\n\u001b[0;32m    192\u001b[0m \u001b[38;5;66;03m# Remember that these dimensions are\u001b[39;00m\n\u001b[0;32m    193\u001b[0m \u001b[38;5;66;03m# 0 : rayset\u001b[39;00m\n\u001b[0;32m    194\u001b[0m \u001b[38;5;66;03m# 1 : surface #\u001b[39;00m\n\u001b[0;32m    195\u001b[0m \u001b[38;5;66;03m# 2 : ray coordinate value\u001b[39;00m\n\u001b[0;32m    197\u001b[0m \u001b[38;5;28mself\u001b[39m\u001b[38;5;241m.\u001b[39mxData \u001b[38;5;241m=\u001b[39m positions[\u001b[38;5;241m0\u001b[39m]\n",
      "File \u001b[1;32m~\\Desktop\\poke\\poke\\raytrace.py:63\u001b[0m, in \u001b[0;36mTraceThroughZOS\u001b[1;34m(raysets, pth, surflist, nrays, wave, global_coords)\u001b[0m\n\u001b[0;32m     60\u001b[0m dll \u001b[38;5;241m=\u001b[39m os\u001b[38;5;241m.\u001b[39mpath\u001b[38;5;241m.\u001b[39mjoin(os\u001b[38;5;241m.\u001b[39mpath\u001b[38;5;241m.\u001b[39mdirname(os\u001b[38;5;241m.\u001b[39mpath\u001b[38;5;241m.\u001b[39mrealpath(\u001b[38;5;18m__file__\u001b[39m)),\u001b[38;5;124mr\u001b[39m\u001b[38;5;124m'\u001b[39m\u001b[38;5;124mRaytrace.dll\u001b[39m\u001b[38;5;124m'\u001b[39m)\n\u001b[0;32m     61\u001b[0m clr\u001b[38;5;241m.\u001b[39mAddReference(dll)\n\u001b[1;32m---> 63\u001b[0m \u001b[38;5;28;01mimport\u001b[39;00m \u001b[38;5;21;01mBatchRayTrace\u001b[39;00m\n\u001b[0;32m     65\u001b[0m zos \u001b[38;5;241m=\u001b[39m zosapi\u001b[38;5;241m.\u001b[39mApp()\n\u001b[0;32m     66\u001b[0m TheSystem \u001b[38;5;241m=\u001b[39m zos\u001b[38;5;241m.\u001b[39mTheSystem\n",
      "File \u001b[1;32m<frozen importlib._bootstrap>:991\u001b[0m, in \u001b[0;36m_find_and_load\u001b[1;34m(name, import_)\u001b[0m\n",
      "File \u001b[1;32m<frozen importlib._bootstrap>:975\u001b[0m, in \u001b[0;36m_find_and_load_unlocked\u001b[1;34m(name, import_)\u001b[0m\n",
      "File \u001b[1;32m<frozen importlib._bootstrap>:657\u001b[0m, in \u001b[0;36m_load_unlocked\u001b[1;34m(spec)\u001b[0m\n",
      "File \u001b[1;32m<frozen importlib._bootstrap>:556\u001b[0m, in \u001b[0;36mmodule_from_spec\u001b[1;34m(spec)\u001b[0m\n",
      "File \u001b[1;32m<string>:15\u001b[0m, in \u001b[0;36mcreate_module\u001b[1;34m(klass, spec)\u001b[0m\n",
      "\u001b[1;31mFileNotFoundException\u001b[0m: Could not load file or assembly 'ZOSAPI_Interfaces, Version=1.0.0.0, Culture=neutral, PublicKeyToken=null' or one of its dependencies. The system cannot find the file specified.\r\nFile name: 'ZOSAPI_Interfaces, Version=1.0.0.0, Culture=neutral, PublicKeyToken=null'\r\n   at System.Signature.GetSignature(Void* pCorSig, Int32 cCorSig, RuntimeFieldHandleInternal fieldHandle, IRuntimeMethodInfo methodHandle, RuntimeType declaringType)\r\n   at System.Reflection.RuntimeConstructorInfo.GetParametersNoCopy()\r\n   at System.Reflection.MethodBase.GetParameterTypes()\r\n   at System.Reflection.MethodBase.FormatNameAndSig(Boolean serialization)\r\n   at System.Reflection.RuntimeConstructorInfo.ToString()\r\n   at Python.Runtime.MethodObject..ctor(MaybeType type, String name, MethodBase[] info, Boolean allow_threads)\r\n   at Python.Runtime.ClassManager.GetClassInfo(Type type, ClassBase impl)\r\n   at Python.Runtime.ClassManager.InitClassBase(Type type, ClassBase impl, ReflectedClrType pyType)\r\n   at Python.Runtime.ReflectedClrType.GetOrCreate(Type type)\r\n   at Python.Runtime.ModuleObject.GetAttribute(String name, Boolean guess)\r\n   at Python.Runtime.ModuleObject.LoadNames()\r\n   at Python.Runtime.ImportHook.Import(String modname)\r\n   at Python.Runtime.CLRModule._load_clr_module(PyObject spec)\r\n\r\nWRN: Assembly binding logging is turned OFF.\r\nTo enable assembly bind failure logging, set the registry value [HKLM\\Software\\Microsoft\\Fusion!EnableLog] (DWORD) to 1.\r\nNote: There is some performance penalty associated with assembly bind failure logging.\r\nTo turn this feature off, remove the registry value [HKLM\\Software\\Microsoft\\Fusion!EnableLog].\r\n"
     ]
    }
   ],
   "source": [
    "rays.TraceRaysetZOS(pth_to_zmx)"
   ]
  },
  {
   "cell_type": "markdown",
   "id": "1f14d87a",
   "metadata": {},
   "source": [
    "Now the rays have position and angle"
   ]
  },
  {
   "cell_type": "code",
   "execution_count": 8,
   "id": "9bf92939",
   "metadata": {},
   "outputs": [
    {
     "name": "stdout",
     "output_type": "stream",
     "text": [
      "Package                Version     Editable project location\n",
      "---------------------- ----------- ------------------------------\n",
      "anyio                  3.5.0\n",
      "argon2-cffi            21.3.0\n",
      "argon2-cffi-bindings   21.2.0\n",
      "asdf                   2.14.3\n",
      "asdf-standard          1.0.3\n",
      "asdf-transform-schemas 0.3.0\n",
      "asdf-unit-schemas      0.1.0\n",
      "astropy                5.1.1\n",
      "asttokens              2.2.1\n",
      "atomicwrites           1.4.1\n",
      "attrs                  22.1.0\n",
      "Babel                  2.9.1\n",
      "backcall               0.2.0\n",
      "beautifulsoup4         4.11.1\n",
      "bleach                 4.1.0\n",
      "brotlipy               0.7.0\n",
      "certifi                2022.9.24\n",
      "cffi                   1.15.1\n",
      "charset-normalizer     2.0.4\n",
      "clr-loader             0.2.4\n",
      "colorama               0.4.6\n",
      "contourpy              1.0.6\n",
      "coverage               7.0.4\n",
      "cryptography           38.0.1\n",
      "cycler                 0.11.0\n",
      "debugpy                1.5.1\n",
      "decorator              5.1.1\n",
      "defusedxml             0.7.1\n",
      "distlib                0.3.6\n",
      "entrypoints            0.4\n",
      "executing              1.2.0\n",
      "fastjsonschema         2.16.2\n",
      "filelock               3.9.0\n",
      "flit_core              3.6.0\n",
      "fonttools              4.38.0\n",
      "hcipy                  0.5.1\n",
      "idna                   3.4\n",
      "imageio                2.23.0\n",
      "importlib-metadata     5.1.0\n",
      "importlib-resources    5.10.1\n",
      "iniconfig              2.0.0\n",
      "ipykernel              6.15.2\n",
      "ipython                8.7.0\n",
      "ipython-genutils       0.2.0\n",
      "jedi                   0.18.2\n",
      "Jinja2                 3.1.2\n",
      "jmespath               1.0.1\n",
      "json5                  0.9.6\n",
      "jsonschema             4.17.3\n",
      "jupyter_client         7.4.7\n",
      "jupyter_core           4.11.2\n",
      "jupyter-server         1.18.1\n",
      "jupyterlab             3.5.0\n",
      "jupyterlab-pygments    0.1.2\n",
      "jupyterlab_server      2.16.3\n",
      "kiwisolver             1.4.4\n",
      "llvmlite               0.39.1\n",
      "lxml                   4.9.1\n",
      "MarkupSafe             2.1.1\n",
      "matplotlib             3.6.2\n",
      "matplotlib-inline      0.1.6\n",
      "mistune                0.8.4\n",
      "nbclassic              0.4.8\n",
      "nbclient               0.5.13\n",
      "nbconvert              6.5.4\n",
      "nbformat               5.7.0\n",
      "nest-asyncio           1.5.5\n",
      "notebook               6.5.2\n",
      "notebook_shim          0.2.2\n",
      "numba                  0.56.4\n",
      "numexpr                2.8.4\n",
      "numpy                  1.23.5\n",
      "packaging              21.3\n",
      "pandocfilters          1.5.0\n",
      "parso                  0.8.3\n",
      "pickleshare            0.7.5\n",
      "Pillow                 9.3.0\n",
      "pip                    22.2.2\n",
      "pkgutil_resolve_name   1.3.10\n",
      "platformdirs           2.6.2\n",
      "pluggy                 1.0.0\n",
      "poke                   0.0.0       C:\\Users\\douglase\\Desktop\\poke\n",
      "poppy                  1.0.3\n",
      "prometheus-client      0.14.1\n",
      "prompt-toolkit         3.0.36\n",
      "psutil                 5.9.0\n",
      "pure-eval              0.2.2\n",
      "py                     1.11.0\n",
      "pycparser              2.21\n",
      "pyerfa                 2.0.0.1\n",
      "Pygments               2.13.0\n",
      "pyOpenSSL              22.0.0\n",
      "pyparsing              3.0.9\n",
      "pyrsistent             0.19.2\n",
      "PySocks                1.7.1\n",
      "pytest                 6.2.5\n",
      "pytest-cov             2.12.1\n",
      "python-dateutil        2.8.2\n",
      "pythonnet              3.0.1\n",
      "pytz                   2022.1\n",
      "pywin32                305.1\n",
      "pywinpty               2.0.2\n",
      "PyYAML                 6.0\n",
      "pyzmq                  23.2.0\n",
      "requests               2.28.1\n",
      "scipy                  1.9.3\n",
      "semantic-version       2.10.0\n",
      "Send2Trash             1.8.0\n",
      "setuptools             65.5.0\n",
      "six                    1.16.0\n",
      "sniffio                1.2.0\n",
      "soupsieve              2.3.2.post1\n",
      "stack-data             0.6.2\n",
      "terminado              0.13.1\n",
      "tinycss2               1.2.1\n",
      "toml                   0.10.2\n",
      "tomli                  2.0.1\n",
      "tornado                6.2\n",
      "tox                    3.24.3\n",
      "traitlets              5.8.0\n",
      "typing_extensions      4.4.0\n",
      "urllib3                1.26.13\n",
      "virtualenv             20.17.1\n",
      "wcwidth                0.2.5\n",
      "webencodings           0.5.1\n",
      "websocket-client       0.58.0\n",
      "wheel                  0.37.1\n",
      "win-inet-pton          1.1.0\n",
      "wincertstore           0.2\n",
      "xxhash                 3.1.0\n",
      "zipp                   3.11.0\n",
      "zosapi                 0.2\n"
     ]
    }
   ],
   "source": [
    "! pip list"
   ]
  },
  {
   "cell_type": "code",
   "execution_count": 10,
   "id": "09640bc9",
   "metadata": {},
   "outputs": [],
   "source": [
    "import zosapi, os\n",
    "zos = zosapi.App()\n",
    "zos.TheSystem.LoadFile(os.path.join(os.path.sep, zos.TheApplication.SamplesDir, r'Sequential\\Objectives\\Double Gauss 28 degree field.zmx'), False)\n",
    "if zos.TheSystem.SystemData.Aperture.ApertureValue == 0:\n",
    "    raise SystemError('Did not properly load a file')\n",
    "    print('no error found')"
   ]
  },
  {
   "cell_type": "code",
   "execution_count": 23,
   "id": "da63b5f6",
   "metadata": {},
   "outputs": [],
   "source": [
    "psf = zos.TheSystem.Analyses.New_FftPsf()"
   ]
  },
  {
   "cell_type": "code",
   "execution_count": 35,
   "id": "da31e5ba",
   "metadata": {},
   "outputs": [
    {
     "ename": "TypeError",
     "evalue": "No method matches given arguments for IAR_.GetDataGrid: ()",
     "output_type": "error",
     "traceback": [
      "\u001b[1;31m---------------------------------------------------------------------------\u001b[0m",
      "\u001b[1;31mTypeError\u001b[0m                                 Traceback (most recent call last)",
      "Cell \u001b[1;32mIn[35], line 1\u001b[0m\n\u001b[1;32m----> 1\u001b[0m \u001b[43mpsf\u001b[49m\u001b[38;5;241;43m.\u001b[39;49m\u001b[43mGetResults\u001b[49m\u001b[43m(\u001b[49m\u001b[43m)\u001b[49m\u001b[38;5;241;43m.\u001b[39;49m\u001b[43mGetDataGrid\u001b[49m\u001b[43m(\u001b[49m\u001b[43m)\u001b[49m\n",
      "\u001b[1;31mTypeError\u001b[0m: No method matches given arguments for IAR_.GetDataGrid: ()"
     ]
    }
   ],
   "source": []
  },
  {
   "cell_type": "code",
   "execution_count": null,
   "id": "585008d3",
   "metadata": {},
   "outputs": [],
   "source": []
  }
 ],
 "metadata": {
  "kernelspec": {
   "display_name": "Python 3 (ipykernel)",
   "language": "python",
   "name": "python3"
  },
  "language_info": {
   "codemirror_mode": {
    "name": "ipython",
    "version": 3
   },
   "file_extension": ".py",
   "mimetype": "text/x-python",
   "name": "python",
   "nbconvert_exporter": "python",
   "pygments_lexer": "ipython3",
   "version": "3.8.8"
  }
 },
 "nbformat": 4,
 "nbformat_minor": 5
}
