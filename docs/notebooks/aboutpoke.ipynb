{
 "cells": [
  {
   "attachments": {},
   "cell_type": "markdown",
   "id": "1c890238",
   "metadata": {},
   "source": [
    "# About Poke\n",
    "Poke was motivated by the desire to have a platform that better integrates ray models with wave models to make simulations easier and add more propagation physics to the optical modeling pipeline. This tool has been enabling in various research areas, including the following papers:\n",
    "\n",
    "* Anche, Ashcraft, and Haffert et al. \"Polarization aberrations in next-generation Giant Segmented MirrorTelescopes (GSMTs) I.Effect on the coronagraphic performance,\" submitted to Astronomy & Astrophysics (Accepted Jan 2022).\n",
    "* Ashcraft, Douglas, Kim, and Riggs. \"Hybrid Propagation Physics for The Design and Modeling of Astronomical Observatories: a Coronagraphic Example,\" submitted to Journal of Astronomical Telescopes, Instruments, and Systems (Accepted October 23 2023)\n",
    "* Anche, Haffert, Ashcraft et al. \"Estimation of polarization aberrations and their effect on the coronagraphic performance for future space telescopes,\" presented at SPIE Optics + Photonics 2023\n",
    "\n",
    "We also have an expansive list of formal (made accepted PRs) and informal contributors (contributed code during early development phases):\n",
    "* Jaren N. Ashcraft - *lead developer*\n",
    "* Kenji Mulhal - *Docs and FITS file handling*\n",
    "* Brandon Dube - *Rayfront reading and writing*\n",
    "* Quinn Jarecki - *Jones pupil local coordinate system conversion*\n",
    "* Emory Jenkins - *Zernike polynomial generator*\n",
    "* Ramya Anche - *Testing and discussions during PRT development*\n",
    "* Trent Brendel - *Testing and discussions during GBD development*"
   ]
  },
  {
   "attachments": {},
   "cell_type": "markdown",
   "id": "6c5e4066",
   "metadata": {},
   "source": [
    "## Acknowledging or citing poke\n",
    "\n",
    "If your work made use of poke we would be greatful if you could include the following acknowledgement.\n",
    "\n",
    "\"This research made use of poke, an open-source ray-based physical optics platform\"\n",
    "\n",
    "And cite our github repository https://doi.org/10.5281/zenodo.7512683\n",
    "\n",
    "```\n",
    "@misc{Ashcraft_poke_2022,\n",
    "author = {Ashcraft, Jaren},\n",
    "title = {{poke v0.1.0}},\n",
    "month = {Sep},\n",
    "year = {2022},\n",
    "doi = {10.5281/zenodo.7117214},\n",
    "publisher = {Zenodo},\n",
    "howpublished = {https://zenodo.org/10.5281/zenodo.7117214}\n",
    "}\n",
    "```"
   ]
  }
 ],
 "metadata": {
  "kernelspec": {
   "display_name": "Python 3",
   "language": "python",
   "name": "python3"
  },
  "language_info": {
   "codemirror_mode": {
    "name": "ipython",
    "version": 3
   },
   "file_extension": ".py",
   "mimetype": "text/x-python",
   "name": "python",
   "nbconvert_exporter": "python",
   "pygments_lexer": "ipython3",
   "version": "3.8.8"
  }
 },
 "nbformat": 4,
 "nbformat_minor": 5
}
