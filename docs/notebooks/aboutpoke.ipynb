{
 "cells": [
  {
   "attachments": {},
   "cell_type": "markdown",
   "id": "1c890238",
   "metadata": {},
   "source": [
    "# About Poke"
   ]
  },
  {
   "attachments": {},
   "cell_type": "markdown",
   "id": "6c5e4066",
   "metadata": {},
   "source": [
    "## Acknowledging or citing poke\n",
    "\n",
    "If your work made use of poke we would be greatful if you could include the following acknowledgement.\n",
    "\n",
    "\"This research made use of poke, an open-source ray-based physical optics platform\"\n",
    "\n",
    "And cite our github repository https://doi.org/10.5281/zenodo.7512683\n",
    "\n",
    "```\n",
    "@misc{Ashcraft_poke_2022,\n",
    "author = {Ashcraft, Jaren},\n",
    "title = {{poke v0.1.0}},\n",
    "month = {Sep},\n",
    "year = {2022},\n",
    "doi = {10.5281/zenodo.7117214},\n",
    "publisher = {Zenodo},\n",
    "howpublished = {https://zenodo.org/10.5281/zenodo.7117214}\n",
    "}\n",
    "```"
   ]
  },
  {
   "cell_type": "code",
   "execution_count": null,
   "id": "1321fc50",
   "metadata": {},
   "outputs": [],
   "source": []
  }
 ],
 "metadata": {
  "kernelspec": {
   "display_name": "Python 3",
   "language": "python",
   "name": "python3"
  },
  "language_info": {
   "codemirror_mode": {
    "name": "ipython",
    "version": 3
   },
   "file_extension": ".py",
   "mimetype": "text/x-python",
   "name": "python",
   "nbconvert_exporter": "python",
   "pygments_lexer": "ipython3",
   "version": "3.8.8"
  }
 },
 "nbformat": 4,
 "nbformat_minor": 5
}
