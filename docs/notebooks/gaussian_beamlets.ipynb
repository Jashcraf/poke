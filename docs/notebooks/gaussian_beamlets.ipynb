{
 "cells": [
  {
   "cell_type": "markdown",
   "metadata": {},
   "source": [
    "# PSF Simulation with Gaussian Beamlet Decomposition\n",
    "\n",
    "Traditional diffraction simulation is typically done by projecting some signal $U$ onto an infinite sum of some elementary wave (plane, parabolic, spherical waves). Gaussian Beamlet Decomposition is a different take on this, where $U$ is instead projected onto a finite sum of Gaussian Beams.\n",
    "\n",
    "Why Gaussian Beams? A great question, the primary reason is that they are \"eigenfunctions of free space propagation\". Put plainly, they don't change their shape when they move, they just get bigger or smaller. This fact means that there is a geometric mapping of a Gaussian beam through an optical system that essentially just squishes it.\n",
    "\n",
    "Rays happen to be pretty good at determining this geometric mapping, and Gaussian beams are extremely localized. Therefore, we can consider a regime of optical propagation where rays instead look more like Gaussian beams.\n",
    "\n",
    "_written by Jaren Ashcraft_"
   ]
  },
  {
   "cell_type": "code",
   "execution_count": null,
   "metadata": {},
   "outputs": [],
   "source": []
  },
  {
   "cell_type": "code",
   "execution_count": null,
   "metadata": {},
   "outputs": [],
   "source": []
  },
  {
   "cell_type": "code",
   "execution_count": null,
   "metadata": {},
   "outputs": [],
   "source": []
  }
 ],
 "metadata": {
  "kernelspec": {
   "display_name": "base",
   "language": "python",
   "name": "python3"
  },
  "language_info": {
   "codemirror_mode": {
    "name": "ipython",
    "version": 3
   },
   "file_extension": ".py",
   "mimetype": "text/x-python",
   "name": "python",
   "nbconvert_exporter": "python",
   "pygments_lexer": "ipython3",
   "version": "3.8.8"
  }
 },
 "nbformat": 4,
 "nbformat_minor": 2
}
