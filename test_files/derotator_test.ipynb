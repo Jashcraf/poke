{
 "cells": [
  {
   "cell_type": "markdown",
   "metadata": {},
   "source": [
    "# Recreate Joost Hart (2021) simulatiions of the derotator retardance"
   ]
  },
  {
   "cell_type": "code",
   "execution_count": 2,
   "metadata": {},
   "outputs": [],
   "source": [
    "import numpy as np\n",
    "import matplotlib.pyplot as plt\n",
    "from poke.thinfilms_prysm import *"
   ]
  },
  {
   "cell_type": "code",
   "execution_count": 39,
   "metadata": {},
   "outputs": [],
   "source": [
    "wl = 1575e-9\n",
    "n_Ag = 0.14677 + 1j*11.568\n",
    "n_SiO2 = 1.4437\n",
    "\n",
    "\n",
    "n1 = n_SiO2\n",
    "n2 = n_Ag\n",
    "th1 = [30,60,30]\n",
    "d = 20e-9\n",
    "pol = 's'\n",
    "\n",
    "\n",
    "\n",
    "# two films, scalar value\n",
    "film = [(n1,d),(n2,10*d)]\n",
    "\n",
    "\n",
    "def Compute_rtot(wl,n1,n2,th1,d,pol):\n",
    "\n",
    "    num = t01 * t10 * r12 * np.exp(1j*B)\n",
    "    den = 1 - r10*r12*np.exp(1j*B)\n",
    "    rtot = r01 + num/den\n",
    "\n",
    "    return"
   ]
  },
  {
   "cell_type": "code",
   "execution_count": 42,
   "metadata": {},
   "outputs": [
    {
     "name": "stdout",
     "output_type": "stream",
     "text": [
      "rtot =  (-0.9423572877658475-0.3279075905093532j)\n",
      "ttot =  (4.995687961735984e-06-1.6310292641867724e-05j)\n"
     ]
    },
    {
     "name": "stderr",
     "output_type": "stream",
     "text": [
      "/Users/jashcraft/Desktop/poke/poke/thinfilms_prysm.py:506: ComplexWarning: Casting complex values to real discards the imaginary part\n",
      "  angles[1] = result\n"
     ]
    }
   ],
   "source": [
    "r,t = multilayer_stack_rt(film,wl,pol,aoi=th1[0]*0)\n",
    "print('rtot = ',r)\n",
    "print('ttot = ',t)"
   ]
  },
  {
   "cell_type": "code",
   "execution_count": 36,
   "metadata": {},
   "outputs": [
    {
     "data": {
      "text/plain": [
       "array([[[1.4437e+00+0.j]],\n",
       "\n",
       "       [[2.0000e-08+0.j]]])"
      ]
     },
     "execution_count": 36,
     "metadata": {},
     "output_type": "execute_result"
    }
   ],
   "source": [
    "film"
   ]
  },
  {
   "cell_type": "code",
   "execution_count": null,
   "metadata": {},
   "outputs": [],
   "source": []
  },
  {
   "cell_type": "code",
   "execution_count": null,
   "metadata": {},
   "outputs": [],
   "source": [
    "\\"
   ]
  }
 ],
 "metadata": {
  "kernelspec": {
   "display_name": "Python 3.8.8 ('base')",
   "language": "python",
   "name": "python3"
  },
  "language_info": {
   "codemirror_mode": {
    "name": "ipython",
    "version": 3
   },
   "file_extension": ".py",
   "mimetype": "text/x-python",
   "name": "python",
   "nbconvert_exporter": "python",
   "pygments_lexer": "ipython3",
   "version": "3.8.8"
  },
  "orig_nbformat": 4,
  "vscode": {
   "interpreter": {
    "hash": "40d3a090f54c6569ab1632332b64b2c03c39dcf918b08424e98f38b5ae0af88f"
   }
  }
 },
 "nbformat": 4,
 "nbformat_minor": 2
}
